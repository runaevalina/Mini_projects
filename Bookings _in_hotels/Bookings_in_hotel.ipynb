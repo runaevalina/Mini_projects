{
 "cells": [
  {
   "cell_type": "markdown",
   "metadata": {},
   "source": [
    "Tasks\n",
    "\n",
    "- Users from which countries have made the most successful bookings? Specify the top 5.\n",
    "- How many nights do hotels of different types book on average?\n",
    "- Sometimes the type of room received by the client (assigned_room_type) differs from the one originally booked (reserved_room_type). This can happen, for example, due to overbooking. How many such observations were found in the dataset?\n",
    "\n",
    "- Review your planned arrival dates. – What month was the most successful booking in 2016? Did the most popular month change in 2017? - Group the data by years and check which month City Hotel bookings were canceled most often in each period\n",
    "- Look at the numerical characteristics of three variables: adults, children and babies. Which one has the largest average value?\n",
    "\n",
    "- Create a \"total_kids\" column by concatenating children and babies. For which type of hotels did the average value of the variable turn out to be the largest?\n",
    "- Create a \"has_kids\" variable that takes the value True if the client specified at least one child during the booking (total_kids), otherwise False. Calculate the ratio of the number of users who left to the total number of customers, expressed as a percentage (churn rate). Indicate which group has the highest rate.\n",
    "\n",
    "\n",
    "The data we have:\n",
    "\n",
    "- Hotel – (City Hotel or Resort Hotel)  \n",
    "- Is canceled – status (1) или нет (0); not canceled means success\n",
    "- Lead time – the day qty between  the booking day and arrival day\n",
    "- Arrival full date \n",
    "- Arrival date year   \n",
    "- Arrival date month   \n",
    "- Arrival date week number\n",
    "- Arrival date day of month \n",
    "- Stays in weekend nights – qty of weekends (Suturday and Sunday) that were booked by customer \n",
    "- Stays in week nights – qty of days (Monday- Friday), that were booked by customer \n",
    "- Stays total nights – total number of days (summ of Stays in weekend nights and tays in week nights )\n",
    "- Adults- number of adults\n",
    "- Children – number of children\n",
    "- Babies – number of babies \n",
    "- Meal – meal type\n",
    "- Country – where is the customer from\n",
    "- Reserved room type\n",
    "- Assigned room type - room type (could differ from the type of booking)\n",
    "- Customer type - booking type\n",
    "- Reservation status – the latest booking status: Canceled ; Check-Out ; No-Show \n",
    "- Reservation status date – the latest updated status "
   ]
  },
  {
   "cell_type": "code",
   "execution_count": 1,
   "metadata": {},
   "outputs": [],
   "source": [
    "import pandas as pd\n",
    "import seaborn as sns\n",
    "sns.set(rc={'figure.figsize':(13.7,8.27)})\n"
   ]
  },
  {
   "cell_type": "code",
   "execution_count": 2,
   "metadata": {},
   "outputs": [],
   "source": [
    "path = './2_bookings.csv' # set the file path"
   ]
  },
  {
   "cell_type": "code",
   "execution_count": 3,
   "metadata": {},
   "outputs": [],
   "source": [
    "df = pd.read_csv(path, sep=';')# read first 10 rows in file using separation between columns as \";\""
   ]
  },
  {
   "cell_type": "code",
   "execution_count": 4,
   "metadata": {},
   "outputs": [],
   "source": [
    "#let's rename columns in a common way"
   ]
  },
  {
   "cell_type": "code",
   "execution_count": 5,
   "metadata": {},
   "outputs": [],
   "source": [
    "rename_cloumns = {}\n",
    "for col in df.columns:\n",
    "    rename_cloumns[col] = col.replace(\" \", \"_\").lower()"
   ]
  },
  {
   "cell_type": "code",
   "execution_count": 6,
   "metadata": {},
   "outputs": [],
   "source": [
    "df = df.rename(columns = rename_cloumns)"
   ]
  },
  {
   "cell_type": "code",
   "execution_count": 7,
   "metadata": {},
   "outputs": [
    {
     "data": {
      "text/plain": [
       "hotel                         object\n",
       "is_canceled                    int64\n",
       "lead_time                      int64\n",
       "arrival_full_date             object\n",
       "arrival_date_year              int64\n",
       "arrival_date_month            object\n",
       "arrival_date_week_number       int64\n",
       "arrival_date_day_of_month      int64\n",
       "stays_in_weekend_nights        int64\n",
       "stays_in_week_nights           int64\n",
       "stays_total_nights             int64\n",
       "adults                         int64\n",
       "children                     float64\n",
       "babies                         int64\n",
       "meal                          object\n",
       "country                       object\n",
       "reserved_room_type            object\n",
       "assigned_room_type            object\n",
       "customer_type                 object\n",
       "reservation_status            object\n",
       "reservation_status_date       object\n",
       "dtype: object"
      ]
     },
     "execution_count": 7,
     "metadata": {},
     "output_type": "execute_result"
    }
   ],
   "source": [
    "df.dtypes # check data types in table"
   ]
  },
  {
   "cell_type": "code",
   "execution_count": 466,
   "metadata": {},
   "outputs": [],
   "source": [
    "#there are dates columns but now the type is wrong"
   ]
  },
  {
   "cell_type": "code",
   "execution_count": 467,
   "metadata": {},
   "outputs": [],
   "source": [
    "df[[\"arrival_full_date\",\"reservation_status_date\"]] = df[[\"arrival_full_date\",\"reservation_status_date\"]].apply(pd.to_datetime)"
   ]
  },
  {
   "cell_type": "markdown",
   "metadata": {},
   "source": [
    "1. TOP-5 countries according to succesfull  booking amount"
   ]
  },
  {
   "cell_type": "code",
   "execution_count": 468,
   "metadata": {},
   "outputs": [],
   "source": [
    "top_5 = df.query('reservation_status == \"Check-Out\"')\\\n",
    "          .groupby(\"country\", as_index = False)\\\n",
    "          .agg({\"hotel\":\"count\"})\\\n",
    "          .rename(columns ={\"hotel\":\"qty\"})\\\n",
    "          .sort_values(by =\"qty\", ascending = False)\\\n",
    "          .head(5)"
   ]
  },
  {
   "cell_type": "markdown",
   "metadata": {},
   "source": [
    "Probably PRT (Portugal) is famous for Resort hotels, but GBR (G.Britain) and FRA(France) are popular with City hotels. Let's check the number of each hotel type in those top-5 countries. "
   ]
  },
  {
   "cell_type": "code",
   "execution_count": 469,
   "metadata": {},
   "outputs": [
    {
     "data": {
      "text/html": [
       "<div>\n",
       "<style scoped>\n",
       "    .dataframe tbody tr th:only-of-type {\n",
       "        vertical-align: middle;\n",
       "    }\n",
       "\n",
       "    .dataframe tbody tr th {\n",
       "        vertical-align: top;\n",
       "    }\n",
       "\n",
       "    .dataframe thead th {\n",
       "        text-align: right;\n",
       "    }\n",
       "</style>\n",
       "<table border=\"1\" class=\"dataframe\">\n",
       "  <thead>\n",
       "    <tr style=\"text-align: right;\">\n",
       "      <th></th>\n",
       "      <th>hotel</th>\n",
       "      <th>is_canceled</th>\n",
       "      <th>lead_time</th>\n",
       "      <th>arrival_full_date</th>\n",
       "      <th>arrival_date_year</th>\n",
       "      <th>arrival_date_month</th>\n",
       "      <th>arrival_date_week_number</th>\n",
       "      <th>arrival_date_day_of_month</th>\n",
       "      <th>stays_in_weekend_nights</th>\n",
       "      <th>stays_in_week_nights</th>\n",
       "      <th>...</th>\n",
       "      <th>adults</th>\n",
       "      <th>children</th>\n",
       "      <th>babies</th>\n",
       "      <th>meal</th>\n",
       "      <th>country</th>\n",
       "      <th>reserved_room_type</th>\n",
       "      <th>assigned_room_type</th>\n",
       "      <th>customer_type</th>\n",
       "      <th>reservation_status</th>\n",
       "      <th>reservation_status_date</th>\n",
       "    </tr>\n",
       "  </thead>\n",
       "  <tbody>\n",
       "    <tr>\n",
       "      <th>0</th>\n",
       "      <td>Resort Hotel</td>\n",
       "      <td>0</td>\n",
       "      <td>342</td>\n",
       "      <td>2015-07-01</td>\n",
       "      <td>2015</td>\n",
       "      <td>July</td>\n",
       "      <td>27</td>\n",
       "      <td>1</td>\n",
       "      <td>0</td>\n",
       "      <td>0</td>\n",
       "      <td>...</td>\n",
       "      <td>2</td>\n",
       "      <td>0.0</td>\n",
       "      <td>0</td>\n",
       "      <td>BB</td>\n",
       "      <td>PRT</td>\n",
       "      <td>C</td>\n",
       "      <td>C</td>\n",
       "      <td>Transient</td>\n",
       "      <td>Check-Out</td>\n",
       "      <td>2015-07-01</td>\n",
       "    </tr>\n",
       "    <tr>\n",
       "      <th>1</th>\n",
       "      <td>Resort Hotel</td>\n",
       "      <td>0</td>\n",
       "      <td>737</td>\n",
       "      <td>2015-07-01</td>\n",
       "      <td>2015</td>\n",
       "      <td>July</td>\n",
       "      <td>27</td>\n",
       "      <td>1</td>\n",
       "      <td>0</td>\n",
       "      <td>0</td>\n",
       "      <td>...</td>\n",
       "      <td>2</td>\n",
       "      <td>0.0</td>\n",
       "      <td>0</td>\n",
       "      <td>BB</td>\n",
       "      <td>PRT</td>\n",
       "      <td>C</td>\n",
       "      <td>C</td>\n",
       "      <td>Transient</td>\n",
       "      <td>Check-Out</td>\n",
       "      <td>2015-07-01</td>\n",
       "    </tr>\n",
       "    <tr>\n",
       "      <th>2</th>\n",
       "      <td>Resort Hotel</td>\n",
       "      <td>0</td>\n",
       "      <td>7</td>\n",
       "      <td>2015-07-01</td>\n",
       "      <td>2015</td>\n",
       "      <td>July</td>\n",
       "      <td>27</td>\n",
       "      <td>1</td>\n",
       "      <td>0</td>\n",
       "      <td>1</td>\n",
       "      <td>...</td>\n",
       "      <td>1</td>\n",
       "      <td>0.0</td>\n",
       "      <td>0</td>\n",
       "      <td>BB</td>\n",
       "      <td>GBR</td>\n",
       "      <td>A</td>\n",
       "      <td>C</td>\n",
       "      <td>Transient</td>\n",
       "      <td>Check-Out</td>\n",
       "      <td>2015-07-02</td>\n",
       "    </tr>\n",
       "    <tr>\n",
       "      <th>3</th>\n",
       "      <td>Resort Hotel</td>\n",
       "      <td>0</td>\n",
       "      <td>13</td>\n",
       "      <td>2015-07-01</td>\n",
       "      <td>2015</td>\n",
       "      <td>July</td>\n",
       "      <td>27</td>\n",
       "      <td>1</td>\n",
       "      <td>0</td>\n",
       "      <td>1</td>\n",
       "      <td>...</td>\n",
       "      <td>1</td>\n",
       "      <td>0.0</td>\n",
       "      <td>0</td>\n",
       "      <td>BB</td>\n",
       "      <td>GBR</td>\n",
       "      <td>A</td>\n",
       "      <td>A</td>\n",
       "      <td>Transient</td>\n",
       "      <td>Check-Out</td>\n",
       "      <td>2015-07-02</td>\n",
       "    </tr>\n",
       "    <tr>\n",
       "      <th>4</th>\n",
       "      <td>Resort Hotel</td>\n",
       "      <td>0</td>\n",
       "      <td>14</td>\n",
       "      <td>2015-07-01</td>\n",
       "      <td>2015</td>\n",
       "      <td>July</td>\n",
       "      <td>27</td>\n",
       "      <td>1</td>\n",
       "      <td>0</td>\n",
       "      <td>2</td>\n",
       "      <td>...</td>\n",
       "      <td>2</td>\n",
       "      <td>0.0</td>\n",
       "      <td>0</td>\n",
       "      <td>BB</td>\n",
       "      <td>GBR</td>\n",
       "      <td>A</td>\n",
       "      <td>A</td>\n",
       "      <td>Transient</td>\n",
       "      <td>Check-Out</td>\n",
       "      <td>2015-07-03</td>\n",
       "    </tr>\n",
       "    <tr>\n",
       "      <th>5</th>\n",
       "      <td>Resort Hotel</td>\n",
       "      <td>0</td>\n",
       "      <td>14</td>\n",
       "      <td>2015-07-01</td>\n",
       "      <td>2015</td>\n",
       "      <td>July</td>\n",
       "      <td>27</td>\n",
       "      <td>1</td>\n",
       "      <td>0</td>\n",
       "      <td>2</td>\n",
       "      <td>...</td>\n",
       "      <td>2</td>\n",
       "      <td>0.0</td>\n",
       "      <td>0</td>\n",
       "      <td>BB</td>\n",
       "      <td>GBR</td>\n",
       "      <td>A</td>\n",
       "      <td>A</td>\n",
       "      <td>Transient</td>\n",
       "      <td>Check-Out</td>\n",
       "      <td>2015-07-03</td>\n",
       "    </tr>\n",
       "    <tr>\n",
       "      <th>6</th>\n",
       "      <td>Resort Hotel</td>\n",
       "      <td>0</td>\n",
       "      <td>0</td>\n",
       "      <td>2015-07-01</td>\n",
       "      <td>2015</td>\n",
       "      <td>July</td>\n",
       "      <td>27</td>\n",
       "      <td>1</td>\n",
       "      <td>0</td>\n",
       "      <td>2</td>\n",
       "      <td>...</td>\n",
       "      <td>2</td>\n",
       "      <td>0.0</td>\n",
       "      <td>0</td>\n",
       "      <td>BB</td>\n",
       "      <td>PRT</td>\n",
       "      <td>C</td>\n",
       "      <td>C</td>\n",
       "      <td>Transient</td>\n",
       "      <td>Check-Out</td>\n",
       "      <td>2015-07-03</td>\n",
       "    </tr>\n",
       "  </tbody>\n",
       "</table>\n",
       "<p>7 rows × 21 columns</p>\n",
       "</div>"
      ],
      "text/plain": [
       "          hotel  is_canceled  lead_time arrival_full_date  arrival_date_year  \\\n",
       "0  Resort Hotel            0        342        2015-07-01               2015   \n",
       "1  Resort Hotel            0        737        2015-07-01               2015   \n",
       "2  Resort Hotel            0          7        2015-07-01               2015   \n",
       "3  Resort Hotel            0         13        2015-07-01               2015   \n",
       "4  Resort Hotel            0         14        2015-07-01               2015   \n",
       "5  Resort Hotel            0         14        2015-07-01               2015   \n",
       "6  Resort Hotel            0          0        2015-07-01               2015   \n",
       "\n",
       "  arrival_date_month  arrival_date_week_number  arrival_date_day_of_month  \\\n",
       "0               July                        27                          1   \n",
       "1               July                        27                          1   \n",
       "2               July                        27                          1   \n",
       "3               July                        27                          1   \n",
       "4               July                        27                          1   \n",
       "5               July                        27                          1   \n",
       "6               July                        27                          1   \n",
       "\n",
       "   stays_in_weekend_nights  stays_in_week_nights  ...  adults  children  \\\n",
       "0                        0                     0  ...       2       0.0   \n",
       "1                        0                     0  ...       2       0.0   \n",
       "2                        0                     1  ...       1       0.0   \n",
       "3                        0                     1  ...       1       0.0   \n",
       "4                        0                     2  ...       2       0.0   \n",
       "5                        0                     2  ...       2       0.0   \n",
       "6                        0                     2  ...       2       0.0   \n",
       "\n",
       "   babies  meal country reserved_room_type assigned_room_type customer_type  \\\n",
       "0       0    BB     PRT                  C                  C     Transient   \n",
       "1       0    BB     PRT                  C                  C     Transient   \n",
       "2       0    BB     GBR                  A                  C     Transient   \n",
       "3       0    BB     GBR                  A                  A     Transient   \n",
       "4       0    BB     GBR                  A                  A     Transient   \n",
       "5       0    BB     GBR                  A                  A     Transient   \n",
       "6       0    BB     PRT                  C                  C     Transient   \n",
       "\n",
       "  reservation_status reservation_status_date  \n",
       "0          Check-Out              2015-07-01  \n",
       "1          Check-Out              2015-07-01  \n",
       "2          Check-Out              2015-07-02  \n",
       "3          Check-Out              2015-07-02  \n",
       "4          Check-Out              2015-07-03  \n",
       "5          Check-Out              2015-07-03  \n",
       "6          Check-Out              2015-07-03  \n",
       "\n",
       "[7 rows x 21 columns]"
      ]
     },
     "execution_count": 469,
     "metadata": {},
     "output_type": "execute_result"
    }
   ],
   "source": [
    "df.head(7)"
   ]
  },
  {
   "cell_type": "code",
   "execution_count": 470,
   "metadata": {},
   "outputs": [
    {
     "data": {
      "text/html": [
       "<div>\n",
       "<style scoped>\n",
       "    .dataframe tbody tr th:only-of-type {\n",
       "        vertical-align: middle;\n",
       "    }\n",
       "\n",
       "    .dataframe tbody tr th {\n",
       "        vertical-align: top;\n",
       "    }\n",
       "\n",
       "    .dataframe thead th {\n",
       "        text-align: right;\n",
       "    }\n",
       "</style>\n",
       "<table border=\"1\" class=\"dataframe\">\n",
       "  <thead>\n",
       "    <tr style=\"text-align: right;\">\n",
       "      <th></th>\n",
       "      <th>hotel</th>\n",
       "      <th>country</th>\n",
       "      <th>hotel_amount</th>\n",
       "    </tr>\n",
       "  </thead>\n",
       "  <tbody>\n",
       "    <tr>\n",
       "      <th>0</th>\n",
       "      <td>City Hotel</td>\n",
       "      <td>DEU</td>\n",
       "      <td>6084</td>\n",
       "    </tr>\n",
       "    <tr>\n",
       "      <th>1</th>\n",
       "      <td>City Hotel</td>\n",
       "      <td>ESP</td>\n",
       "      <td>4611</td>\n",
       "    </tr>\n",
       "    <tr>\n",
       "      <th>2</th>\n",
       "      <td>City Hotel</td>\n",
       "      <td>FRA</td>\n",
       "      <td>8804</td>\n",
       "    </tr>\n",
       "    <tr>\n",
       "      <th>3</th>\n",
       "      <td>City Hotel</td>\n",
       "      <td>GBR</td>\n",
       "      <td>5315</td>\n",
       "    </tr>\n",
       "    <tr>\n",
       "      <th>4</th>\n",
       "      <td>City Hotel</td>\n",
       "      <td>PRT</td>\n",
       "      <td>30960</td>\n",
       "    </tr>\n",
       "    <tr>\n",
       "      <th>5</th>\n",
       "      <td>Resort Hotel</td>\n",
       "      <td>DEU</td>\n",
       "      <td>1203</td>\n",
       "    </tr>\n",
       "    <tr>\n",
       "      <th>6</th>\n",
       "      <td>Resort Hotel</td>\n",
       "      <td>ESP</td>\n",
       "      <td>3957</td>\n",
       "    </tr>\n",
       "    <tr>\n",
       "      <th>7</th>\n",
       "      <td>Resort Hotel</td>\n",
       "      <td>FRA</td>\n",
       "      <td>1611</td>\n",
       "    </tr>\n",
       "    <tr>\n",
       "      <th>8</th>\n",
       "      <td>Resort Hotel</td>\n",
       "      <td>GBR</td>\n",
       "      <td>6814</td>\n",
       "    </tr>\n",
       "    <tr>\n",
       "      <th>9</th>\n",
       "      <td>Resort Hotel</td>\n",
       "      <td>PRT</td>\n",
       "      <td>17630</td>\n",
       "    </tr>\n",
       "  </tbody>\n",
       "</table>\n",
       "</div>"
      ],
      "text/plain": [
       "          hotel country  hotel_amount\n",
       "0    City Hotel     DEU          6084\n",
       "1    City Hotel     ESP          4611\n",
       "2    City Hotel     FRA          8804\n",
       "3    City Hotel     GBR          5315\n",
       "4    City Hotel     PRT         30960\n",
       "5  Resort Hotel     DEU          1203\n",
       "6  Resort Hotel     ESP          3957\n",
       "7  Resort Hotel     FRA          1611\n",
       "8  Resort Hotel     GBR          6814\n",
       "9  Resort Hotel     PRT         17630"
      ]
     },
     "execution_count": 470,
     "metadata": {},
     "output_type": "execute_result"
    }
   ],
   "source": [
    "hotels_countries = df.query(\"country == ('PRT', 'GBR', 'FRA', 'ESP', 'DEU')\")\\\n",
    "                     .groupby(['hotel','country'], as_index = False)\\\n",
    "                     .agg({\"meal\":\"count\"})\\\n",
    "                     .rename(columns ={\"meal\":\"hotel_amount\"})\n",
    "hotels_countries"
   ]
  },
  {
   "cell_type": "code",
   "execution_count": 471,
   "metadata": {},
   "outputs": [
    {
     "data": {
      "text/plain": [
       "<seaborn.axisgrid.FacetGrid at 0x7fa772a35250>"
      ]
     },
     "execution_count": 471,
     "metadata": {},
     "output_type": "execute_result"
    },
    {
     "data": {
      "image/png": "[encoded data removed]",
      "text/plain": [
       "<Figure size 532.85x432 with 1 Axes>"
      ]
     },
     "metadata": {},
     "output_type": "display_data"
    }
   ],
   "source": [
    "sns.catplot(\n",
    "    data=hotels_countries, kind=\"bar\",\n",
    "    x=\"country\", y=\"hotel_amount\", hue=\"hotel\",\n",
    "   palette=\"dark\", alpha=.6, height=6\n",
    ")"
   ]
  },
  {
   "cell_type": "markdown",
   "metadata": {},
   "source": [
    "Surprisingly, even in PRT and ESP there are more City hotels than Resort."
   ]
  },
  {
   "cell_type": "markdown",
   "metadata": {},
   "source": [
    "2. What is the average qty of nights in bookings in the different types of hotels?   "
   ]
  },
  {
   "cell_type": "code",
   "execution_count": 472,
   "metadata": {},
   "outputs": [],
   "source": [
    "df['ttl_days']=df['stays_in_weekend_nights'] + df['stays_in_week_nights'] # calculate ttl numner of week and weekend days"
   ]
  },
  {
   "cell_type": "code",
   "execution_count": 473,
   "metadata": {},
   "outputs": [
    {
     "data": {
      "text/html": [
       "<div>\n",
       "<style scoped>\n",
       "    .dataframe tbody tr th:only-of-type {\n",
       "        vertical-align: middle;\n",
       "    }\n",
       "\n",
       "    .dataframe tbody tr th {\n",
       "        vertical-align: top;\n",
       "    }\n",
       "\n",
       "    .dataframe thead th {\n",
       "        text-align: right;\n",
       "    }\n",
       "</style>\n",
       "<table border=\"1\" class=\"dataframe\">\n",
       "  <thead>\n",
       "    <tr style=\"text-align: right;\">\n",
       "      <th></th>\n",
       "      <th>hotel</th>\n",
       "      <th>ttl_days</th>\n",
       "    </tr>\n",
       "  </thead>\n",
       "  <tbody>\n",
       "    <tr>\n",
       "      <th>0</th>\n",
       "      <td>City Hotel</td>\n",
       "      <td>3.0</td>\n",
       "    </tr>\n",
       "    <tr>\n",
       "      <th>1</th>\n",
       "      <td>Resort Hotel</td>\n",
       "      <td>4.0</td>\n",
       "    </tr>\n",
       "  </tbody>\n",
       "</table>\n",
       "</div>"
      ],
      "text/plain": [
       "          hotel  ttl_days\n",
       "0    City Hotel       3.0\n",
       "1  Resort Hotel       4.0"
      ]
     },
     "execution_count": 473,
     "metadata": {},
     "output_type": "execute_result"
    }
   ],
   "source": [
    "av_nights = df.groupby(\"hotel\", as_index = False).agg({\"ttl_days\":\"mean\"}).round()\n",
    "av_nights"
   ]
  },
  {
   "cell_type": "markdown",
   "metadata": {},
   "source": [
    "3. Sometimes assigned_room_type is not the same as reserved_room_type. It may happen in case of overbooking.\n",
    " How many of such cases are in df? What dates?"
   ]
  },
  {
   "cell_type": "code",
   "execution_count": 474,
   "metadata": {},
   "outputs": [
    {
     "data": {
      "text/plain": [
       "14917"
      ]
     },
     "execution_count": 474,
     "metadata": {},
     "output_type": "execute_result"
    }
   ],
   "source": [
    "len(df.loc[df.assigned_room_type != df.reserved_room_type])\n",
    "#calculate the number of rows where the values are not same"
   ]
  },
  {
   "cell_type": "code",
   "execution_count": 475,
   "metadata": {},
   "outputs": [
    {
     "data": {
      "text/html": [
       "<div>\n",
       "<style scoped>\n",
       "    .dataframe tbody tr th:only-of-type {\n",
       "        vertical-align: middle;\n",
       "    }\n",
       "\n",
       "    .dataframe tbody tr th {\n",
       "        vertical-align: top;\n",
       "    }\n",
       "\n",
       "    .dataframe thead th {\n",
       "        text-align: right;\n",
       "    }\n",
       "</style>\n",
       "<table border=\"1\" class=\"dataframe\">\n",
       "  <thead>\n",
       "    <tr style=\"text-align: right;\">\n",
       "      <th></th>\n",
       "      <th>arrival_full_date</th>\n",
       "      <th>hotel</th>\n",
       "      <th>qty</th>\n",
       "    </tr>\n",
       "  </thead>\n",
       "  <tbody>\n",
       "    <tr>\n",
       "      <th>688</th>\n",
       "      <td>2016-06-24</td>\n",
       "      <td>City Hotel</td>\n",
       "      <td>93</td>\n",
       "    </tr>\n",
       "    <tr>\n",
       "      <th>652</th>\n",
       "      <td>2016-06-06</td>\n",
       "      <td>City Hotel</td>\n",
       "      <td>69</td>\n",
       "    </tr>\n",
       "    <tr>\n",
       "      <th>165</th>\n",
       "      <td>2015-10-02</td>\n",
       "      <td>City Hotel</td>\n",
       "      <td>64</td>\n",
       "    </tr>\n",
       "    <tr>\n",
       "      <th>151</th>\n",
       "      <td>2015-09-25</td>\n",
       "      <td>City Hotel</td>\n",
       "      <td>61</td>\n",
       "    </tr>\n",
       "    <tr>\n",
       "      <th>1099</th>\n",
       "      <td>2017-01-16</td>\n",
       "      <td>Resort Hotel</td>\n",
       "      <td>60</td>\n",
       "    </tr>\n",
       "    <tr>\n",
       "      <th>193</th>\n",
       "      <td>2015-10-16</td>\n",
       "      <td>City Hotel</td>\n",
       "      <td>59</td>\n",
       "    </tr>\n",
       "    <tr>\n",
       "      <th>262</th>\n",
       "      <td>2015-11-21</td>\n",
       "      <td>Resort Hotel</td>\n",
       "      <td>57</td>\n",
       "    </tr>\n",
       "    <tr>\n",
       "      <th>192</th>\n",
       "      <td>2015-10-15</td>\n",
       "      <td>Resort Hotel</td>\n",
       "      <td>55</td>\n",
       "    </tr>\n",
       "    <tr>\n",
       "      <th>181</th>\n",
       "      <td>2015-10-10</td>\n",
       "      <td>City Hotel</td>\n",
       "      <td>48</td>\n",
       "    </tr>\n",
       "    <tr>\n",
       "      <th>123</th>\n",
       "      <td>2015-09-11</td>\n",
       "      <td>City Hotel</td>\n",
       "      <td>47</td>\n",
       "    </tr>\n",
       "  </tbody>\n",
       "</table>\n",
       "</div>"
      ],
      "text/plain": [
       "     arrival_full_date         hotel  qty\n",
       "688         2016-06-24    City Hotel   93\n",
       "652         2016-06-06    City Hotel   69\n",
       "165         2015-10-02    City Hotel   64\n",
       "151         2015-09-25    City Hotel   61\n",
       "1099        2017-01-16  Resort Hotel   60\n",
       "193         2015-10-16    City Hotel   59\n",
       "262         2015-11-21  Resort Hotel   57\n",
       "192         2015-10-15  Resort Hotel   55\n",
       "181         2015-10-10    City Hotel   48\n",
       "123         2015-09-11    City Hotel   47"
      ]
     },
     "execution_count": 475,
     "metadata": {},
     "output_type": "execute_result"
    }
   ],
   "source": [
    "df.query('assigned_room_type != reserved_room_type')\\\n",
    ".groupby([\"arrival_full_date\",\"hotel\"], as_index = False)\\\n",
    ".agg({\"country\":\"count\"})\\\n",
    ".rename(columns = {\"country\":\"qty\"})\\\n",
    ".sort_values(by =\"qty\", ascending = False)\\\n",
    ".head(10) #top 10 results when the room type was not the same as it was planned, when it happened and where(hotel)"
   ]
  },
  {
   "cell_type": "markdown",
   "metadata": {},
   "source": [
    "4. What are the planned arrival dates? What month was the top in 2016? Is it same in 2017? What is the main destination?"
   ]
  },
  {
   "cell_type": "code",
   "execution_count": 484,
   "metadata": {},
   "outputs": [],
   "source": [
    "arrivals = df.query(\"country == ('PRT', 'GBR', 'FRA', 'ESP', 'DEU')\")\\\n",
    "             .groupby(['arrival_date_year','arrival_date_month','country'], as_index = False)\\\n",
    "             .agg({\"arrival_date_week_number\":\"count\"})\\\n",
    "             .rename(columns = {\"arrival_date_week_number\":\"qty\"})\\\n",
    "             .sort_values(by = 'qty', ascending = False)"
   ]
  },
  {
   "cell_type": "code",
   "execution_count": 486,
   "metadata": {},
   "outputs": [
    {
     "data": {
      "text/html": [
       "<div>\n",
       "<style scoped>\n",
       "    .dataframe tbody tr th:only-of-type {\n",
       "        vertical-align: middle;\n",
       "    }\n",
       "\n",
       "    .dataframe tbody tr th {\n",
       "        vertical-align: top;\n",
       "    }\n",
       "\n",
       "    .dataframe thead th {\n",
       "        text-align: right;\n",
       "    }\n",
       "</style>\n",
       "<table border=\"1\" class=\"dataframe\">\n",
       "  <thead>\n",
       "    <tr style=\"text-align: right;\">\n",
       "      <th></th>\n",
       "      <th>arrival_date_month</th>\n",
       "      <th>January</th>\n",
       "      <th>February</th>\n",
       "      <th>March</th>\n",
       "      <th>April</th>\n",
       "      <th>May</th>\n",
       "      <th>June</th>\n",
       "      <th>July</th>\n",
       "      <th>August</th>\n",
       "      <th>September</th>\n",
       "      <th>October</th>\n",
       "      <th>November</th>\n",
       "      <th>December</th>\n",
       "    </tr>\n",
       "    <tr>\n",
       "      <th>arrival_date_year</th>\n",
       "      <th>country</th>\n",
       "      <th></th>\n",
       "      <th></th>\n",
       "      <th></th>\n",
       "      <th></th>\n",
       "      <th></th>\n",
       "      <th></th>\n",
       "      <th></th>\n",
       "      <th></th>\n",
       "      <th></th>\n",
       "      <th></th>\n",
       "      <th></th>\n",
       "      <th></th>\n",
       "    </tr>\n",
       "  </thead>\n",
       "  <tbody>\n",
       "    <tr>\n",
       "      <th rowspan=\"5\" valign=\"top\">2015</th>\n",
       "      <th>DEU</th>\n",
       "      <td>0</td>\n",
       "      <td>0</td>\n",
       "      <td>0</td>\n",
       "      <td>0</td>\n",
       "      <td>0</td>\n",
       "      <td>0</td>\n",
       "      <td>18</td>\n",
       "      <td>69</td>\n",
       "      <td>129</td>\n",
       "      <td>157</td>\n",
       "      <td>74</td>\n",
       "      <td>77</td>\n",
       "    </tr>\n",
       "    <tr>\n",
       "      <th>ESP</th>\n",
       "      <td>0</td>\n",
       "      <td>0</td>\n",
       "      <td>0</td>\n",
       "      <td>0</td>\n",
       "      <td>0</td>\n",
       "      <td>0</td>\n",
       "      <td>186</td>\n",
       "      <td>497</td>\n",
       "      <td>314</td>\n",
       "      <td>312</td>\n",
       "      <td>194</td>\n",
       "      <td>429</td>\n",
       "    </tr>\n",
       "    <tr>\n",
       "      <th>FRA</th>\n",
       "      <td>0</td>\n",
       "      <td>0</td>\n",
       "      <td>0</td>\n",
       "      <td>0</td>\n",
       "      <td>0</td>\n",
       "      <td>0</td>\n",
       "      <td>20</td>\n",
       "      <td>180</td>\n",
       "      <td>394</td>\n",
       "      <td>323</td>\n",
       "      <td>229</td>\n",
       "      <td>202</td>\n",
       "    </tr>\n",
       "    <tr>\n",
       "      <th>GBR</th>\n",
       "      <td>0</td>\n",
       "      <td>0</td>\n",
       "      <td>0</td>\n",
       "      <td>0</td>\n",
       "      <td>0</td>\n",
       "      <td>0</td>\n",
       "      <td>144</td>\n",
       "      <td>109</td>\n",
       "      <td>393</td>\n",
       "      <td>462</td>\n",
       "      <td>129</td>\n",
       "      <td>119</td>\n",
       "    </tr>\n",
       "    <tr>\n",
       "      <th>PRT</th>\n",
       "      <td>0</td>\n",
       "      <td>0</td>\n",
       "      <td>0</td>\n",
       "      <td>0</td>\n",
       "      <td>0</td>\n",
       "      <td>0</td>\n",
       "      <td>2077</td>\n",
       "      <td>2445</td>\n",
       "      <td>2888</td>\n",
       "      <td>2870</td>\n",
       "      <td>1296</td>\n",
       "      <td>1731</td>\n",
       "    </tr>\n",
       "    <tr>\n",
       "      <th rowspan=\"5\" valign=\"top\">2016</th>\n",
       "      <th>DEU</th>\n",
       "      <td>85</td>\n",
       "      <td>125</td>\n",
       "      <td>284</td>\n",
       "      <td>427</td>\n",
       "      <td>449</td>\n",
       "      <td>374</td>\n",
       "      <td>295</td>\n",
       "      <td>421</td>\n",
       "      <td>453</td>\n",
       "      <td>583</td>\n",
       "      <td>218</td>\n",
       "      <td>151</td>\n",
       "    </tr>\n",
       "    <tr>\n",
       "      <th>ESP</th>\n",
       "      <td>165</td>\n",
       "      <td>316</td>\n",
       "      <td>581</td>\n",
       "      <td>268</td>\n",
       "      <td>189</td>\n",
       "      <td>204</td>\n",
       "      <td>352</td>\n",
       "      <td>653</td>\n",
       "      <td>264</td>\n",
       "      <td>278</td>\n",
       "      <td>248</td>\n",
       "      <td>506</td>\n",
       "    </tr>\n",
       "    <tr>\n",
       "      <th>FRA</th>\n",
       "      <td>141</td>\n",
       "      <td>322</td>\n",
       "      <td>322</td>\n",
       "      <td>516</td>\n",
       "      <td>544</td>\n",
       "      <td>387</td>\n",
       "      <td>395</td>\n",
       "      <td>603</td>\n",
       "      <td>395</td>\n",
       "      <td>625</td>\n",
       "      <td>484</td>\n",
       "      <td>431</td>\n",
       "    </tr>\n",
       "    <tr>\n",
       "      <th>GBR</th>\n",
       "      <td>117</td>\n",
       "      <td>231</td>\n",
       "      <td>403</td>\n",
       "      <td>452</td>\n",
       "      <td>621</td>\n",
       "      <td>533</td>\n",
       "      <td>481</td>\n",
       "      <td>488</td>\n",
       "      <td>743</td>\n",
       "      <td>863</td>\n",
       "      <td>391</td>\n",
       "      <td>262</td>\n",
       "    </tr>\n",
       "    <tr>\n",
       "      <th>PRT</th>\n",
       "      <td>1160</td>\n",
       "      <td>2105</td>\n",
       "      <td>2077</td>\n",
       "      <td>2331</td>\n",
       "      <td>2277</td>\n",
       "      <td>2432</td>\n",
       "      <td>1566</td>\n",
       "      <td>1407</td>\n",
       "      <td>1881</td>\n",
       "      <td>2038</td>\n",
       "      <td>1720</td>\n",
       "      <td>1327</td>\n",
       "    </tr>\n",
       "    <tr>\n",
       "      <th rowspan=\"5\" valign=\"top\">2017</th>\n",
       "      <th>DEU</th>\n",
       "      <td>131</td>\n",
       "      <td>163</td>\n",
       "      <td>399</td>\n",
       "      <td>466</td>\n",
       "      <td>424</td>\n",
       "      <td>427</td>\n",
       "      <td>519</td>\n",
       "      <td>369</td>\n",
       "      <td>0</td>\n",
       "      <td>0</td>\n",
       "      <td>0</td>\n",
       "      <td>0</td>\n",
       "    </tr>\n",
       "    <tr>\n",
       "      <th>ESP</th>\n",
       "      <td>301</td>\n",
       "      <td>376</td>\n",
       "      <td>180</td>\n",
       "      <td>402</td>\n",
       "      <td>202</td>\n",
       "      <td>213</td>\n",
       "      <td>383</td>\n",
       "      <td>555</td>\n",
       "      <td>0</td>\n",
       "      <td>0</td>\n",
       "      <td>0</td>\n",
       "      <td>0</td>\n",
       "    </tr>\n",
       "    <tr>\n",
       "      <th>FRA</th>\n",
       "      <td>278</td>\n",
       "      <td>489</td>\n",
       "      <td>651</td>\n",
       "      <td>558</td>\n",
       "      <td>603</td>\n",
       "      <td>429</td>\n",
       "      <td>368</td>\n",
       "      <td>526</td>\n",
       "      <td>0</td>\n",
       "      <td>0</td>\n",
       "      <td>0</td>\n",
       "      <td>0</td>\n",
       "    </tr>\n",
       "    <tr>\n",
       "      <th>GBR</th>\n",
       "      <td>250</td>\n",
       "      <td>562</td>\n",
       "      <td>585</td>\n",
       "      <td>695</td>\n",
       "      <td>936</td>\n",
       "      <td>845</td>\n",
       "      <td>711</td>\n",
       "      <td>604</td>\n",
       "      <td>0</td>\n",
       "      <td>0</td>\n",
       "      <td>0</td>\n",
       "      <td>0</td>\n",
       "    </tr>\n",
       "    <tr>\n",
       "      <th>PRT</th>\n",
       "      <td>1502</td>\n",
       "      <td>1561</td>\n",
       "      <td>1649</td>\n",
       "      <td>1703</td>\n",
       "      <td>2040</td>\n",
       "      <td>1943</td>\n",
       "      <td>1262</td>\n",
       "      <td>1302</td>\n",
       "      <td>0</td>\n",
       "      <td>0</td>\n",
       "      <td>0</td>\n",
       "      <td>0</td>\n",
       "    </tr>\n",
       "  </tbody>\n",
       "</table>\n",
       "</div>"
      ],
      "text/plain": [
       "arrival_date_month         January  February  March  April   May  June  July  \\\n",
       "arrival_date_year country                                                      \n",
       "2015              DEU            0         0      0      0     0     0    18   \n",
       "                  ESP            0         0      0      0     0     0   186   \n",
       "                  FRA            0         0      0      0     0     0    20   \n",
       "                  GBR            0         0      0      0     0     0   144   \n",
       "                  PRT            0         0      0      0     0     0  2077   \n",
       "2016              DEU           85       125    284    427   449   374   295   \n",
       "                  ESP          165       316    581    268   189   204   352   \n",
       "                  FRA          141       322    322    516   544   387   395   \n",
       "                  GBR          117       231    403    452   621   533   481   \n",
       "                  PRT         1160      2105   2077   2331  2277  2432  1566   \n",
       "2017              DEU          131       163    399    466   424   427   519   \n",
       "                  ESP          301       376    180    402   202   213   383   \n",
       "                  FRA          278       489    651    558   603   429   368   \n",
       "                  GBR          250       562    585    695   936   845   711   \n",
       "                  PRT         1502      1561   1649   1703  2040  1943  1262   \n",
       "\n",
       "arrival_date_month         August  September  October  November  December  \n",
       "arrival_date_year country                                                  \n",
       "2015              DEU          69        129      157        74        77  \n",
       "                  ESP         497        314      312       194       429  \n",
       "                  FRA         180        394      323       229       202  \n",
       "                  GBR         109        393      462       129       119  \n",
       "                  PRT        2445       2888     2870      1296      1731  \n",
       "2016              DEU         421        453      583       218       151  \n",
       "                  ESP         653        264      278       248       506  \n",
       "                  FRA         603        395      625       484       431  \n",
       "                  GBR         488        743      863       391       262  \n",
       "                  PRT        1407       1881     2038      1720      1327  \n",
       "2017              DEU         369          0        0         0         0  \n",
       "                  ESP         555          0        0         0         0  \n",
       "                  FRA         526          0        0         0         0  \n",
       "                  GBR         604          0        0         0         0  \n",
       "                  PRT        1302          0        0         0         0  "
      ]
     },
     "execution_count": 486,
     "metadata": {},
     "output_type": "execute_result"
    }
   ],
   "source": [
    "table = pd.pivot_table(arrivals, values='qty', index=['arrival_date_year','country'],\n",
    "        columns=['arrival_date_month'], fill_value=0)\n",
    "table = table[['January', 'February', 'March', 'April', 'May', 'June', 'July', 'August', 'September', 'October', 'November', 'December']]\n",
    "table"
   ]
  },
  {
   "cell_type": "markdown",
   "metadata": {},
   "source": [
    "5. Group data by hotels, which month was the most cancelled for City Hotel."
   ]
  },
  {
   "cell_type": "code",
   "execution_count": 380,
   "metadata": {},
   "outputs": [
    {
     "data": {
      "text/plain": [
       "arrival_date_year  arrival_date_year  arrival_date_month\n",
       "2015               2015               September             2094\n",
       "2016               2016               October               2514\n",
       "2017               2017               May                   2762\n",
       "Name: is_canceled, dtype: int64"
      ]
     },
     "execution_count": 380,
     "metadata": {},
     "output_type": "execute_result"
    }
   ],
   "source": [
    "#another way\n",
    "df.groupby([\"arrival_date_year\",'arrival_date_month']).is_canceled.sum().groupby('arrival_date_year').nlargest(1)"
   ]
  },
  {
   "cell_type": "markdown",
   "metadata": {},
   "source": [
    "\n",
    "6. Look at the numerical characteristics of three variables: adults, children and babies. Which one has the largest average value?"
   ]
  },
  {
   "cell_type": "code",
   "execution_count": 355,
   "metadata": {},
   "outputs": [
    {
     "data": {
      "text/plain": [
       "children    0.103890\n",
       "babies      0.007949\n",
       "adults      1.856403\n",
       "dtype: float64"
      ]
     },
     "execution_count": 355,
     "metadata": {},
     "output_type": "execute_result"
    }
   ],
   "source": [
    "df[['children','babies','adults']].mean()"
   ]
  },
  {
   "cell_type": "markdown",
   "metadata": {},
   "source": [
    "7. Create a total_kids column by concatenating children and babies. For which type of hotels did the average value of the variable turn out to be the largest?"
   ]
  },
  {
   "cell_type": "code",
   "execution_count": 356,
   "metadata": {},
   "outputs": [],
   "source": [
    "df['total_kids']= df['children'] + df['babies'] #create new col with info from 'children' and 'babies'"
   ]
  },
  {
   "cell_type": "code",
   "execution_count": 357,
   "metadata": {},
   "outputs": [
    {
     "data": {
      "text/plain": [
       "hotel\n",
       "City Hotel      0.096311\n",
       "Resort Hotel    0.142586\n",
       "Name: total_kids, dtype: float64"
      ]
     },
     "execution_count": 357,
     "metadata": {},
     "output_type": "execute_result"
    }
   ],
   "source": [
    "df.groupby(['hotel']).total_kids.mean()"
   ]
  },
  {
   "cell_type": "markdown",
   "metadata": {},
   "source": [
    "\n",
    "8. Create a has_kids variable that takes the value True if the client specified at least one child during the booking (total_kids), otherwise False. Calculate the ratio of the number of users who left to the total number of customers, expressed as a percentage (churn rate). Indicate which group has the highest rate."
   ]
  },
  {
   "cell_type": "code",
   "execution_count": 358,
   "metadata": {},
   "outputs": [],
   "source": [
    "def has_kids(x): #function that checks id the value > 0 \n",
    "    if x > 0:\n",
    "     return True\n",
    "    else: \n",
    "     return False"
   ]
  },
  {
   "cell_type": "code",
   "execution_count": 23,
   "metadata": {},
   "outputs": [],
   "source": [
    "df['has_kids']= df['total_kids'].apply(has_kids)# create new col and applying created function has_kids"
   ]
  },
  {
   "cell_type": "code",
   "execution_count": 24,
   "metadata": {},
   "outputs": [
    {
     "data": {
      "text/plain": [
       "False    110054\n",
       "True       9336\n",
       "Name: total_kids, dtype: int64"
      ]
     },
     "execution_count": 24,
     "metadata": {},
     "output_type": "execute_result"
    }
   ],
   "source": [
    "df.total_kids.astype(bool).value_counts()"
   ]
  },
  {
   "cell_type": "code",
   "execution_count": 25,
   "metadata": {},
   "outputs": [
    {
     "data": {
      "text/plain": [
       "has_kids  is_canceled\n",
       "False     0              0.627787\n",
       "          1              0.372213\n",
       "True      0              0.650772\n",
       "          1              0.349228\n",
       "Name: is_canceled, dtype: float64"
      ]
     },
     "execution_count": 25,
     "metadata": {},
     "output_type": "execute_result"
    }
   ],
   "source": [
    "rates = df.groupby('has_kids')['is_canceled'].value_counts(normalize=True)\n",
    "rates "
   ]
  },
  {
   "cell_type": "markdown",
   "metadata": {},
   "source": [
    "Summary: \n",
    "- Top destinaton for vacation in our dataset is Portugal (more hotels, more visits within the whole year).\n",
    "Most of tourists don't have children in their trip. But the difference is only 16% between tourists with children and without. Usually people stay 4 nights in Resort type of hotels and only 3 nights in City hotel.\n",
    "- The advantage of children for hotels- there are less cancels of bookings from tourists with children. And sure people more often change the room type they booked before in advance in the City hotels."
   ]
  }
 ],
 "metadata": {
  "kernelspec": {
   "display_name": "Python 3",
   "language": "python",
   "name": "python3"
  },
  "language_info": {
   "codemirror_mode": {
    "name": "ipython",
    "version": 3
   },
   "file_extension": ".py",
   "mimetype": "text/x-python",
   "name": "python",
   "nbconvert_exporter": "python",
   "pygments_lexer": "ipython3",
   "version": "3.8.3"
  }
 },
 "nbformat": 4,
 "nbformat_minor": 4
}
